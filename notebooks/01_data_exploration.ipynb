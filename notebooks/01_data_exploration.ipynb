{
  "cells": [
    {
      "cell_type": "markdown",
      "metadata": {
        "colab_type": "text",
        "id": "view-in-github"
      },
      "source": [
        "<a href=\"https://colab.research.google.com/github/trehansalil/sentence_ner/blob/copilot%2Ffix-a6d2d533-4f22-45c8-b3d9-c24a6e371bd0/notebooks/01_data_exploration.ipynb\" target=\"_parent\"><img src=\"https://colab.research.google.com/assets/colab-badge.svg\" alt=\"Open In Colab\"/></a>"
      ]
    },
    {
      "cell_type": "markdown",
      "metadata": {
        "id": "UFGOA10PuydL"
      },
      "source": [
        "# Data Exploration for NER Dataset\n",
        "\n",
        "This notebook explores the Named Entity Recognition (NER) dataset to understand its structure, distribution, and characteristics."
      ]
    },
    {
      "cell_type": "code",
      "execution_count": null,
      "metadata": {
        "id": "b_SNyKzvuydL"
      },
      "outputs": [],
      "source": [
        "# Import required libraries\n",
        "import pandas as pd\n",
        "import numpy as np\n",
        "import matplotlib.pyplot as plt\n",
        "import seaborn as sns\n",
        "import sys\n",
        "import os\n",
        "\n",
        "# Add src directory to path\n",
        "sys.path.append('../')  # Add parent directory to path so we can import src modules\n",
        "\n",
        "from src.utils import (\n",
        "    load_dataset, get_unique_tags, get_tag_distribution,\n",
        "    plot_tag_distribution, print_dataset_info,\n",
        "    get_sentence_length_stats, plot_sentence_length_distribution\n",
        ")\n",
        "from src.data_preprocessing import analyze_dataset\n",
        "\n",
        "# Set style for plots\n",
        "plt.style.use('default')\n",
        "sns.set_palette(\"husl\")\n",
        "\n",
        "# Display settings\n",
        "pd.set_option('display.max_columns', None)\n",
        "pd.set_option('display.max_rows', 20)"
      ]
    },
    {
      "cell_type": "markdown",
      "metadata": {
        "id": "UbcDcsztuydL"
      },
      "source": [
        "## 1. Load and Basic Inspection"
      ]
    },
    {
      "cell_type": "code",
      "execution_count": 5,
      "metadata": {
        "colab": {
          "base_uri": "https://localhost:8080/",
          "height": 432
        },
        "id": "GWbfhdKIuydL",
        "outputId": "e4c954c5-5b65-4a0d-f2c2-4e629c49f64a"
      },
      "outputs": [
        {
          "name": "stdout",
          "output_type": "stream",
          "text": [
            "Dataset loaded successfully!\n",
            "Dataset shape: (1048575, 4)\n",
            "\n",
            "First few rows:\n"
          ]
        },
        {
          "data": {
            "application/vnd.google.colaboratory.intrinsic+json": {
              "type": "dataframe",
              "variable_name": "df"
            },
            "text/html": [
              "\n",
              "  <div id=\"df-4f86de22-56a7-4979-8d09-f47629d39eef\" class=\"colab-df-container\">\n",
              "    <div>\n",
              "<style scoped>\n",
              "    .dataframe tbody tr th:only-of-type {\n",
              "        vertical-align: middle;\n",
              "    }\n",
              "\n",
              "    .dataframe tbody tr th {\n",
              "        vertical-align: top;\n",
              "    }\n",
              "\n",
              "    .dataframe thead th {\n",
              "        text-align: right;\n",
              "    }\n",
              "</style>\n",
              "<table border=\"1\" class=\"dataframe\">\n",
              "  <thead>\n",
              "    <tr style=\"text-align: right;\">\n",
              "      <th></th>\n",
              "      <th>Sentence #</th>\n",
              "      <th>Word</th>\n",
              "      <th>POS</th>\n",
              "      <th>Tag</th>\n",
              "    </tr>\n",
              "  </thead>\n",
              "  <tbody>\n",
              "    <tr>\n",
              "      <th>0</th>\n",
              "      <td>Sentence: 1</td>\n",
              "      <td>Thousands</td>\n",
              "      <td>NNS</td>\n",
              "      <td>O</td>\n",
              "    </tr>\n",
              "    <tr>\n",
              "      <th>1</th>\n",
              "      <td>NaN</td>\n",
              "      <td>of</td>\n",
              "      <td>IN</td>\n",
              "      <td>O</td>\n",
              "    </tr>\n",
              "    <tr>\n",
              "      <th>2</th>\n",
              "      <td>NaN</td>\n",
              "      <td>demonstrators</td>\n",
              "      <td>NNS</td>\n",
              "      <td>O</td>\n",
              "    </tr>\n",
              "    <tr>\n",
              "      <th>3</th>\n",
              "      <td>NaN</td>\n",
              "      <td>have</td>\n",
              "      <td>VBP</td>\n",
              "      <td>O</td>\n",
              "    </tr>\n",
              "    <tr>\n",
              "      <th>4</th>\n",
              "      <td>NaN</td>\n",
              "      <td>marched</td>\n",
              "      <td>VBN</td>\n",
              "      <td>O</td>\n",
              "    </tr>\n",
              "    <tr>\n",
              "      <th>5</th>\n",
              "      <td>NaN</td>\n",
              "      <td>through</td>\n",
              "      <td>IN</td>\n",
              "      <td>O</td>\n",
              "    </tr>\n",
              "    <tr>\n",
              "      <th>6</th>\n",
              "      <td>NaN</td>\n",
              "      <td>London</td>\n",
              "      <td>NNP</td>\n",
              "      <td>B-geo</td>\n",
              "    </tr>\n",
              "    <tr>\n",
              "      <th>7</th>\n",
              "      <td>NaN</td>\n",
              "      <td>to</td>\n",
              "      <td>TO</td>\n",
              "      <td>O</td>\n",
              "    </tr>\n",
              "    <tr>\n",
              "      <th>8</th>\n",
              "      <td>NaN</td>\n",
              "      <td>protest</td>\n",
              "      <td>VB</td>\n",
              "      <td>O</td>\n",
              "    </tr>\n",
              "    <tr>\n",
              "      <th>9</th>\n",
              "      <td>NaN</td>\n",
              "      <td>the</td>\n",
              "      <td>DT</td>\n",
              "      <td>O</td>\n",
              "    </tr>\n",
              "  </tbody>\n",
              "</table>\n",
              "</div>\n",
              "    <div class=\"colab-df-buttons\">\n",
              "\n",
              "  <div class=\"colab-df-container\">\n",
              "    <button class=\"colab-df-convert\" onclick=\"convertToInteractive('df-4f86de22-56a7-4979-8d09-f47629d39eef')\"\n",
              "            title=\"Convert this dataframe to an interactive table.\"\n",
              "            style=\"display:none;\">\n",
              "\n",
              "  <svg xmlns=\"http://www.w3.org/2000/svg\" height=\"24px\" viewBox=\"0 -960 960 960\">\n",
              "    <path d=\"M120-120v-720h720v720H120Zm60-500h600v-160H180v160Zm220 220h160v-160H400v160Zm0 220h160v-160H400v160ZM180-400h160v-160H180v160Zm440 0h160v-160H620v160ZM180-180h160v-160H180v160Zm440 0h160v-160H620v160Z\"/>\n",
              "  </svg>\n",
              "    </button>\n",
              "\n",
              "  <style>\n",
              "    .colab-df-container {\n",
              "      display:flex;\n",
              "      gap: 12px;\n",
              "    }\n",
              "\n",
              "    .colab-df-convert {\n",
              "      background-color: #E8F0FE;\n",
              "      border: none;\n",
              "      border-radius: 50%;\n",
              "      cursor: pointer;\n",
              "      display: none;\n",
              "      fill: #1967D2;\n",
              "      height: 32px;\n",
              "      padding: 0 0 0 0;\n",
              "      width: 32px;\n",
              "    }\n",
              "\n",
              "    .colab-df-convert:hover {\n",
              "      background-color: #E2EBFA;\n",
              "      box-shadow: 0px 1px 2px rgba(60, 64, 67, 0.3), 0px 1px 3px 1px rgba(60, 64, 67, 0.15);\n",
              "      fill: #174EA6;\n",
              "    }\n",
              "\n",
              "    .colab-df-buttons div {\n",
              "      margin-bottom: 4px;\n",
              "    }\n",
              "\n",
              "    [theme=dark] .colab-df-convert {\n",
              "      background-color: #3B4455;\n",
              "      fill: #D2E3FC;\n",
              "    }\n",
              "\n",
              "    [theme=dark] .colab-df-convert:hover {\n",
              "      background-color: #434B5C;\n",
              "      box-shadow: 0px 1px 3px 1px rgba(0, 0, 0, 0.15);\n",
              "      filter: drop-shadow(0px 1px 2px rgba(0, 0, 0, 0.3));\n",
              "      fill: #FFFFFF;\n",
              "    }\n",
              "  </style>\n",
              "\n",
              "    <script>\n",
              "      const buttonEl =\n",
              "        document.querySelector('#df-4f86de22-56a7-4979-8d09-f47629d39eef button.colab-df-convert');\n",
              "      buttonEl.style.display =\n",
              "        google.colab.kernel.accessAllowed ? 'block' : 'none';\n",
              "\n",
              "      async function convertToInteractive(key) {\n",
              "        const element = document.querySelector('#df-4f86de22-56a7-4979-8d09-f47629d39eef');\n",
              "        const dataTable =\n",
              "          await google.colab.kernel.invokeFunction('convertToInteractive',\n",
              "                                                    [key], {});\n",
              "        if (!dataTable) return;\n",
              "\n",
              "        const docLinkHtml = 'Like what you see? Visit the ' +\n",
              "          '<a target=\"_blank\" href=https://colab.research.google.com/notebooks/data_table.ipynb>data table notebook</a>'\n",
              "          + ' to learn more about interactive tables.';\n",
              "        element.innerHTML = '';\n",
              "        dataTable['output_type'] = 'display_data';\n",
              "        await google.colab.output.renderOutput(dataTable, element);\n",
              "        const docLink = document.createElement('div');\n",
              "        docLink.innerHTML = docLinkHtml;\n",
              "        element.appendChild(docLink);\n",
              "      }\n",
              "    </script>\n",
              "  </div>\n",
              "\n",
              "\n",
              "    <div id=\"df-a577595c-10d6-4856-ae7e-1c2789cbed7a\">\n",
              "      <button class=\"colab-df-quickchart\" onclick=\"quickchart('df-a577595c-10d6-4856-ae7e-1c2789cbed7a')\"\n",
              "                title=\"Suggest charts\"\n",
              "                style=\"display:none;\">\n",
              "\n",
              "<svg xmlns=\"http://www.w3.org/2000/svg\" height=\"24px\"viewBox=\"0 0 24 24\"\n",
              "     width=\"24px\">\n",
              "    <g>\n",
              "        <path d=\"M19 3H5c-1.1 0-2 .9-2 2v14c0 1.1.9 2 2 2h14c1.1 0 2-.9 2-2V5c0-1.1-.9-2-2-2zM9 17H7v-7h2v7zm4 0h-2V7h2v10zm4 0h-2v-4h2v4z\"/>\n",
              "    </g>\n",
              "</svg>\n",
              "      </button>\n",
              "\n",
              "<style>\n",
              "  .colab-df-quickchart {\n",
              "      --bg-color: #E8F0FE;\n",
              "      --fill-color: #1967D2;\n",
              "      --hover-bg-color: #E2EBFA;\n",
              "      --hover-fill-color: #174EA6;\n",
              "      --disabled-fill-color: #AAA;\n",
              "      --disabled-bg-color: #DDD;\n",
              "  }\n",
              "\n",
              "  [theme=dark] .colab-df-quickchart {\n",
              "      --bg-color: #3B4455;\n",
              "      --fill-color: #D2E3FC;\n",
              "      --hover-bg-color: #434B5C;\n",
              "      --hover-fill-color: #FFFFFF;\n",
              "      --disabled-bg-color: #3B4455;\n",
              "      --disabled-fill-color: #666;\n",
              "  }\n",
              "\n",
              "  .colab-df-quickchart {\n",
              "    background-color: var(--bg-color);\n",
              "    border: none;\n",
              "    border-radius: 50%;\n",
              "    cursor: pointer;\n",
              "    display: none;\n",
              "    fill: var(--fill-color);\n",
              "    height: 32px;\n",
              "    padding: 0;\n",
              "    width: 32px;\n",
              "  }\n",
              "\n",
              "  .colab-df-quickchart:hover {\n",
              "    background-color: var(--hover-bg-color);\n",
              "    box-shadow: 0 1px 2px rgba(60, 64, 67, 0.3), 0 1px 3px 1px rgba(60, 64, 67, 0.15);\n",
              "    fill: var(--button-hover-fill-color);\n",
              "  }\n",
              "\n",
              "  .colab-df-quickchart-complete:disabled,\n",
              "  .colab-df-quickchart-complete:disabled:hover {\n",
              "    background-color: var(--disabled-bg-color);\n",
              "    fill: var(--disabled-fill-color);\n",
              "    box-shadow: none;\n",
              "  }\n",
              "\n",
              "  .colab-df-spinner {\n",
              "    border: 2px solid var(--fill-color);\n",
              "    border-color: transparent;\n",
              "    border-bottom-color: var(--fill-color);\n",
              "    animation:\n",
              "      spin 1s steps(1) infinite;\n",
              "  }\n",
              "\n",
              "  @keyframes spin {\n",
              "    0% {\n",
              "      border-color: transparent;\n",
              "      border-bottom-color: var(--fill-color);\n",
              "      border-left-color: var(--fill-color);\n",
              "    }\n",
              "    20% {\n",
              "      border-color: transparent;\n",
              "      border-left-color: var(--fill-color);\n",
              "      border-top-color: var(--fill-color);\n",
              "    }\n",
              "    30% {\n",
              "      border-color: transparent;\n",
              "      border-left-color: var(--fill-color);\n",
              "      border-top-color: var(--fill-color);\n",
              "      border-right-color: var(--fill-color);\n",
              "    }\n",
              "    40% {\n",
              "      border-color: transparent;\n",
              "      border-right-color: var(--fill-color);\n",
              "      border-top-color: var(--fill-color);\n",
              "    }\n",
              "    60% {\n",
              "      border-color: transparent;\n",
              "      border-right-color: var(--fill-color);\n",
              "    }\n",
              "    80% {\n",
              "      border-color: transparent;\n",
              "      border-right-color: var(--fill-color);\n",
              "      border-bottom-color: var(--fill-color);\n",
              "    }\n",
              "    90% {\n",
              "      border-color: transparent;\n",
              "      border-bottom-color: var(--fill-color);\n",
              "    }\n",
              "  }\n",
              "</style>\n",
              "\n",
              "      <script>\n",
              "        async function quickchart(key) {\n",
              "          const quickchartButtonEl =\n",
              "            document.querySelector('#' + key + ' button');\n",
              "          quickchartButtonEl.disabled = true;  // To prevent multiple clicks.\n",
              "          quickchartButtonEl.classList.add('colab-df-spinner');\n",
              "          try {\n",
              "            const charts = await google.colab.kernel.invokeFunction(\n",
              "                'suggestCharts', [key], {});\n",
              "          } catch (error) {\n",
              "            console.error('Error during call to suggestCharts:', error);\n",
              "          }\n",
              "          quickchartButtonEl.classList.remove('colab-df-spinner');\n",
              "          quickchartButtonEl.classList.add('colab-df-quickchart-complete');\n",
              "        }\n",
              "        (() => {\n",
              "          let quickchartButtonEl =\n",
              "            document.querySelector('#df-a577595c-10d6-4856-ae7e-1c2789cbed7a button');\n",
              "          quickchartButtonEl.style.display =\n",
              "            google.colab.kernel.accessAllowed ? 'block' : 'none';\n",
              "        })();\n",
              "      </script>\n",
              "    </div>\n",
              "\n",
              "    </div>\n",
              "  </div>\n"
            ],
            "text/plain": [
              "    Sentence #           Word  POS    Tag\n",
              "0  Sentence: 1      Thousands  NNS      O\n",
              "1          NaN             of   IN      O\n",
              "2          NaN  demonstrators  NNS      O\n",
              "3          NaN           have  VBP      O\n",
              "4          NaN        marched  VBN      O\n",
              "5          NaN        through   IN      O\n",
              "6          NaN         London  NNP  B-geo\n",
              "7          NaN             to   TO      O\n",
              "8          NaN        protest   VB      O\n",
              "9          NaN            the   DT      O"
            ]
          },
          "execution_count": 5,
          "metadata": {},
          "output_type": "execute_result"
        }
      ],
      "source": [
        "# Load the dataset\n",
        "data_path = './data/ner_dataset.csv'\n",
        "df = load_dataset(data_path)\n",
        "\n",
        "print(\"Dataset loaded successfully!\")\n",
        "print(f\"Dataset shape: {df.shape}\")\n",
        "print(\"\\nFirst few rows:\")\n",
        "df.head(10)"
      ]
    },
    {
      "cell_type": "code",
      "execution_count": 6,
      "metadata": {
        "colab": {
          "base_uri": "https://localhost:8080/"
        },
        "id": "ZUJoQVE3uydL",
        "outputId": "bb9e354b-7611-4b1e-d68a-903674659035"
      },
      "outputs": [
        {
          "name": "stdout",
          "output_type": "stream",
          "text": [
            "Dataset Information:\n",
            "Shape: (1048575, 4)\n",
            "Columns: ['Sentence #', 'Word', 'POS', 'Tag']\n",
            "Number of unique sentences: 47959\n",
            "Number of unique words: 35177\n",
            "Number of unique tags: 17\n",
            "Unique tags: ['B-art', 'B-eve', 'B-geo', 'B-gpe', 'B-nat', 'B-org', 'B-per', 'B-tim', 'I-art', 'I-eve', 'I-geo', 'I-gpe', 'I-nat', 'I-org', 'I-per', 'I-tim', 'O']\n"
          ]
        }
      ],
      "source": [
        "# Basic dataset information\n",
        "print_dataset_info(df)"
      ]
    },
    {
      "cell_type": "code",
      "execution_count": 7,
      "metadata": {
        "colab": {
          "base_uri": "https://localhost:8080/"
        },
        "id": "f8vPsfhiuydL",
        "outputId": "6feed528-6f80-41d9-d371-2a090fcc9a1c"
      },
      "outputs": [
        {
          "name": "stdout",
          "output_type": "stream",
          "text": [
            "Missing values per column:\n",
            "Sentence #    1000616\n",
            "Word               10\n",
            "POS                 0\n",
            "Tag                 0\n",
            "dtype: int64\n",
            "\n",
            "Data types:\n",
            "Sentence #    object\n",
            "Word          object\n",
            "POS           object\n",
            "Tag           object\n",
            "dtype: object\n"
          ]
        }
      ],
      "source": [
        "# Check for missing values\n",
        "print(\"Missing values per column:\")\n",
        "print(df.isnull().sum())\n",
        "\n",
        "print(\"\\nData types:\")\n",
        "print(df.dtypes)"
      ]
    },
    {
      "cell_type": "markdown",
      "metadata": {
        "id": "VaX4c14quydM"
      },
      "source": [
        "## 2. NER Tags Analysis"
      ]
    },
    {
      "cell_type": "code",
      "execution_count": 8,
      "metadata": {
        "colab": {
          "base_uri": "https://localhost:8080/"
        },
        "id": "9sICV2sxuydM",
        "outputId": "4f019220-be81-4bd1-dd96-b5a86db3a82d"
      },
      "outputs": [
        {
          "name": "stdout",
          "output_type": "stream",
          "text": [
            "Number of unique NER tags: 17\n",
            "Unique tags: ['B-art', 'B-eve', 'B-geo', 'B-gpe', 'B-nat', 'B-org', 'B-per', 'B-tim', 'I-art', 'I-eve', 'I-geo', 'I-gpe', 'I-nat', 'I-org', 'I-per', 'I-tim', 'O']\n",
            "\n",
            "Tag distribution:\n",
            "O: 887,908 (84.68%)\n",
            "B-geo: 37,644 (3.59%)\n",
            "B-tim: 20,333 (1.94%)\n",
            "B-org: 20,143 (1.92%)\n",
            "I-per: 17,251 (1.65%)\n",
            "B-per: 16,990 (1.62%)\n",
            "I-org: 16,784 (1.60%)\n",
            "B-gpe: 15,870 (1.51%)\n",
            "I-geo: 7,414 (0.71%)\n",
            "I-tim: 6,528 (0.62%)\n",
            "B-art: 402 (0.04%)\n",
            "B-eve: 308 (0.03%)\n",
            "I-art: 297 (0.03%)\n",
            "I-eve: 253 (0.02%)\n",
            "B-nat: 201 (0.02%)\n",
            "I-gpe: 198 (0.02%)\n",
            "I-nat: 51 (0.00%)\n"
          ]
        }
      ],
      "source": [
        "# Get unique tags and their distribution\n",
        "unique_tags = get_unique_tags(df)\n",
        "tag_distribution = get_tag_distribution(df)\n",
        "\n",
        "print(f\"Number of unique NER tags: {len(unique_tags)}\")\n",
        "print(f\"Unique tags: {unique_tags}\")\n",
        "\n",
        "print(\"\\nTag distribution:\")\n",
        "for tag, count in sorted(tag_distribution.items(), key=lambda x: x[1], reverse=True):\n",
        "    percentage = (count / len(df)) * 100\n",
        "    print(f\"{tag}: {count:,} ({percentage:.2f}%)\")"
      ]
    },
    {
      "cell_type": "code",
      "execution_count": 9,
      "metadata": {
        "colab": {
          "base_uri": "https://localhost:8080/",
          "height": 607
        },
        "id": "VIy1GF11uydM",
        "outputId": "0a42c529-88fc-4dd9-9949-85e48ea678f2"
      },
      "outputs": [
        {
          "data": {
            "image/png": "[encoded data removed]",
            "text/plain": [
              "<Figure size 1200x600 with 1 Axes>"
            ]
          },
          "metadata": {},
          "output_type": "display_data"
        }
      ],
      "source": [
        "# Plot tag distribution\n",
        "plot_tag_distribution(tag_distribution, \"Distribution of NER Tags\")"
      ]
    },
    {
      "cell_type": "code",
      "execution_count": 10,
      "metadata": {
        "colab": {
          "base_uri": "https://localhost:8080/"
        },
        "id": "9KzRewBRuydM",
        "outputId": "9dd1b47a-9e0c-4dab-bc46-93e26c6dd9f3"
      },
      "outputs": [
        {
          "name": "stdout",
          "output_type": "stream",
          "text": [
            "Number of entity types: 8\n",
            "Entity types: ['art', 'eve', 'geo', 'gpe', 'nat', 'org', 'per', 'tim']\n",
            "\n",
            "Entity type distribution:\n",
            "         B      I  Total\n",
            "geo  37644   7414  45058\n",
            "org  20143  16784  36927\n",
            "per  16990  17251  34241\n",
            "tim  20333   6528  26861\n",
            "gpe  15870    198  16068\n",
            "art    402    297    699\n",
            "eve    308    253    561\n",
            "nat    201     51    252\n"
          ]
        }
      ],
      "source": [
        "# Analyze entity types (B- and I- tags)\n",
        "entity_tags = [tag for tag in unique_tags if tag.startswith(('B-', 'I-'))]\n",
        "entity_types = set(tag[2:] for tag in entity_tags if len(tag) > 2)\n",
        "\n",
        "print(f\"Number of entity types: {len(entity_types)}\")\n",
        "print(f\"Entity types: {sorted(entity_types)}\")\n",
        "\n",
        "# Count entities by type\n",
        "entity_type_counts = {}\n",
        "for entity_type in entity_types:\n",
        "    b_count = df[df['Tag'] == f'B-{entity_type}'].shape[0]\n",
        "    i_count = df[df['Tag'] == f'I-{entity_type}'].shape[0]\n",
        "    entity_type_counts[entity_type] = {'B': b_count, 'I': i_count, 'Total': b_count + i_count}\n",
        "\n",
        "entity_df = pd.DataFrame(entity_type_counts).T\n",
        "entity_df = entity_df.sort_values('Total', ascending=False)\n",
        "print(\"\\nEntity type distribution:\")\n",
        "print(entity_df)"
      ]
    },
    {
      "cell_type": "code",
      "execution_count": 11,
      "metadata": {
        "colab": {
          "base_uri": "https://localhost:8080/",
          "height": 607
        },
        "id": "gV5O1afWuydM",
        "outputId": "340d2a3c-2841-466c-b45a-2d31515d76ad"
      },
      "outputs": [
        {
          "data": {
            "image/png": "[encoded data removed]",
            "text/plain": [
              "<Figure size 1200x600 with 1 Axes>"
            ]
          },
          "metadata": {},
          "output_type": "display_data"
        }
      ],
      "source": [
        "# Plot entity types distribution\n",
        "plt.figure(figsize=(12, 6))\n",
        "x = range(len(entity_df))\n",
        "width = 0.35\n",
        "\n",
        "plt.bar([i - width/2 for i in x], entity_df['B'], width, label='B- (Beginning)', alpha=0.8)\n",
        "plt.bar([i + width/2 for i in x], entity_df['I'], width, label='I- (Inside)', alpha=0.8)\n",
        "\n",
        "plt.xlabel('Entity Types')\n",
        "plt.ylabel('Count')\n",
        "plt.title('Distribution of B- and I- Tags by Entity Type')\n",
        "plt.xticks(x, entity_df.index, rotation=45)\n",
        "plt.legend()\n",
        "plt.tight_layout()\n",
        "plt.show()"
      ]
    },
    {
      "cell_type": "markdown",
      "metadata": {
        "id": "oZ3E69OXuydM"
      },
      "source": [
        "## 3. Sentence Analysis"
      ]
    },
    {
      "cell_type": "code",
      "execution_count": 12,
      "metadata": {
        "colab": {
          "base_uri": "https://localhost:8080/"
        },
        "id": "uGqtDnQNuydM",
        "outputId": "ae7c3024-0314-44ef-8f03-443916e7384d"
      },
      "outputs": [
        {
          "name": "stdout",
          "output_type": "stream",
          "text": [
            "Sentence length statistics:\n",
            "Mean Length: 1.00\n",
            "Median Length: 1.00\n",
            "Min Length: 1.00\n",
            "Max Length: 1.00\n",
            "Std Length: 0.00\n"
          ]
        }
      ],
      "source": [
        "# Sentence length statistics\n",
        "sentence_stats = get_sentence_length_stats(df)\n",
        "\n",
        "print(\"Sentence length statistics:\")\n",
        "for stat, value in sentence_stats.items():\n",
        "    print(f\"{stat.replace('_', ' ').title()}: {value:.2f}\")"
      ]
    },
    {
      "cell_type": "code",
      "execution_count": 13,
      "metadata": {
        "colab": {
          "base_uri": "https://localhost:8080/",
          "height": 607
        },
        "id": "d6K9LANouydM",
        "outputId": "74d57417-c370-427f-af56-402e9c1360e7"
      },
      "outputs": [
        {
          "data": {
            "image/png": "[encoded data removed]",
            "text/plain": [
              "<Figure size 1200x600 with 1 Axes>"
            ]
          },
          "metadata": {},
          "output_type": "display_data"
        }
      ],
      "source": [
        "# Plot sentence length distribution\n",
        "plot_sentence_length_distribution(df)"
      ]
    },
    {
      "cell_type": "code",
      "execution_count": 15,
      "metadata": {
        "colab": {
          "base_uri": "https://localhost:8080/"
        },
        "id": "hDC3SM9JuydM",
        "outputId": "b56f6c42-f3f3-4575-fdc7-13343c0283d1"
      },
      "outputs": [
        {
          "name": "stdout",
          "output_type": "stream",
          "text": [
            "Sample sentences with their tags:\n",
            "\n",
            "Sentence: 1:\n",
            "Words: Thousands\n",
            "Tags:  O\n",
            "\n",
            "nan:\n",
            "Words: \n",
            "Tags:  \n",
            "\n",
            "Sentence: 2:\n",
            "Words: Families\n",
            "Tags:  O\n",
            "\n",
            "Sentence: 3:\n",
            "Words: They\n",
            "Tags:  O\n",
            "\n",
            "Sentence: 4:\n",
            "Words: Police\n",
            "Tags:  O\n"
          ]
        }
      ],
      "source": [
        "# Analyze some sample sentences\n",
        "print(\"Sample sentences with their tags:\")\n",
        "for sent_id in df['Sentence #'].unique()[:5]:\n",
        "    sent_data = df[df['Sentence #'] == sent_id]\n",
        "    words = sent_data['Word'].tolist()\n",
        "    tags = sent_data['Tag'].tolist()\n",
        "\n",
        "    print(f\"\\n{sent_id}:\")\n",
        "    print(f\"Words: {' '.join(words)}\")\n",
        "    print(f\"Tags:  {' '.join(tags)}\")\n",
        "\n",
        "    # Extract entities from this sentence\n",
        "    from src.utils import extract_entities\n",
        "    entities = extract_entities(words, tags)\n",
        "    if entities:\n",
        "        print(f\"Entities: {entities}\")"
      ]
    },
    {
      "cell_type": "markdown",
      "metadata": {
        "id": "fveQnbP9uydM"
      },
      "source": [
        "## 4. Vocabulary Analysis"
      ]
    },
    {
      "cell_type": "code",
      "execution_count": 16,
      "metadata": {
        "colab": {
          "base_uri": "https://localhost:8080/"
        },
        "id": "O52iEUR4uydM",
        "outputId": "50bc6a43-472a-4970-ea1f-bbc298d6d354"
      },
      "outputs": [
        {
          "name": "stdout",
          "output_type": "stream",
          "text": [
            "Total vocabulary size: 35177\n",
            "Most frequent words:\n",
            "Word\n",
            "the     52573\n",
            ".       47761\n",
            ",       32754\n",
            "of      26354\n",
            "in      26323\n",
            "to      23213\n",
            "a       20481\n",
            "and     19936\n",
            "The     11313\n",
            "'s      10923\n",
            "for      8498\n",
            "has      7216\n",
            "is       6746\n",
            "on       6710\n",
            "that     6301\n",
            "have     5485\n",
            "with     5381\n",
            "said     5321\n",
            "was      4878\n",
            "says     4640\n",
            "Name: count, dtype: int64\n",
            "\n",
            "Least frequent words (sample):\n",
            "Word\n",
            "C.              1\n",
            "Cubana          1\n",
            "complemented    1\n",
            "braved          1\n",
            "Gisagara        1\n",
            "Mikulski        1\n",
            "dispel          1\n",
            "Bus             1\n",
            "Woo-ik          1\n",
            "missteps        1\n",
            "Name: count, dtype: int64\n"
          ]
        }
      ],
      "source": [
        "# Word frequency analysis\n",
        "word_counts = df['Word'].value_counts()\n",
        "\n",
        "print(f\"Total vocabulary size: {len(word_counts)}\")\n",
        "print(f\"Most frequent words:\")\n",
        "print(word_counts.head(20))\n",
        "\n",
        "print(f\"\\nLeast frequent words (sample):\")\n",
        "print(word_counts.tail(10))"
      ]
    },
    {
      "cell_type": "code",
      "execution_count": 17,
      "metadata": {
        "colab": {
          "base_uri": "https://localhost:8080/",
          "height": 513
        },
        "id": "Xqnd8tmguydM",
        "outputId": "5e40bc3a-98ae-4e84-f954-4f59aa9e5a43"
      },
      "outputs": [
        {
          "data": {
            "image/png": "[encoded data removed]",
            "text/plain": [
              "<Figure size 1500x600 with 1 Axes>"
            ]
          },
          "metadata": {},
          "output_type": "display_data"
        }
      ],
      "source": [
        "# Plot word frequency distribution (top 30)\n",
        "plt.figure(figsize=(15, 6))\n",
        "top_words = word_counts.head(30)\n",
        "plt.bar(range(len(top_words)), top_words.values)\n",
        "plt.xlabel('Words')\n",
        "plt.ylabel('Frequency')\n",
        "plt.title('Top 30 Most Frequent Words')\n",
        "plt.xticks(range(len(top_words)), top_words.index, rotation=45, ha='right')\n",
        "plt.tight_layout()\n",
        "plt.show()"
      ]
    },
    {
      "cell_type": "code",
      "execution_count": 18,
      "metadata": {
        "colab": {
          "base_uri": "https://localhost:8080/",
          "height": 651
        },
        "id": "G0_CwztguydM",
        "outputId": "be54ee8d-18f9-448d-d3ba-e93a3ec6e124"
      },
      "outputs": [
        {
          "name": "stdout",
          "output_type": "stream",
          "text": [
            "Word frequency distribution:\n",
            "Words appearing once: 14797\n",
            "Words appearing 2-5 times: 6535\n",
            "Words appearing 6-10 times: 2514\n",
            "Words appearing >10 times: 6324\n"
          ]
        },
        {
          "data": {
            "image/png": "[encoded data removed]",
            "text/plain": [
              "<Figure size 1200x600 with 1 Axes>"
            ]
          },
          "metadata": {},
          "output_type": "display_data"
        }
      ],
      "source": [
        "# Analyze word frequency distribution\n",
        "freq_counts = word_counts.value_counts().sort_index()\n",
        "\n",
        "print(\"Word frequency distribution:\")\n",
        "print(f\"Words appearing once: {freq_counts[1] if 1 in freq_counts else 0}\")\n",
        "print(f\"Words appearing 2-5 times: {freq_counts[2:6].sum() if len(freq_counts) > 2 else 0}\")\n",
        "print(f\"Words appearing 6-10 times: {freq_counts[6:11].sum() if len(freq_counts) > 6 else 0}\")\n",
        "print(f\"Words appearing >10 times: {freq_counts[11:].sum() if len(freq_counts) > 11 else 0}\")\n",
        "\n",
        "# Plot frequency of frequencies\n",
        "plt.figure(figsize=(12, 6))\n",
        "plt.hist(word_counts.values, bins=50, edgecolor='black', alpha=0.7)\n",
        "plt.xlabel('Word Frequency')\n",
        "plt.ylabel('Number of Words')\n",
        "plt.title('Distribution of Word Frequencies')\n",
        "plt.yscale('log')\n",
        "plt.show()"
      ]
    },
    {
      "cell_type": "markdown",
      "metadata": {
        "id": "O4vxXIGDuydM"
      },
      "source": [
        "## 5. Comprehensive Dataset Analysis"
      ]
    },
    {
      "cell_type": "code",
      "execution_count": 19,
      "metadata": {
        "colab": {
          "base_uri": "https://localhost:8080/"
        },
        "id": "2Ix_UjB1uydM",
        "outputId": "7411793b-c419-4786-a508-f4ce02b8a0d0"
      },
      "outputs": [
        {
          "name": "stdout",
          "output_type": "stream",
          "text": [
            "Comprehensive Dataset Analysis:\n",
            "==================================================\n",
            "\n",
            "Total Tokens:\n",
            "  1048575\n",
            "\n",
            "Unique Sentences:\n",
            "  47959\n",
            "\n",
            "Unique Words:\n",
            "  35177\n",
            "\n",
            "Unique Tags:\n",
            "  17\n",
            "\n",
            "Tag Distribution:\n",
            "  O: 887908\n",
            "  B-geo: 37644\n",
            "  B-tim: 20333\n",
            "  B-org: 20143\n",
            "  I-per: 17251\n",
            "  B-per: 16990\n",
            "  I-org: 16784\n",
            "  B-gpe: 15870\n",
            "  I-geo: 7414\n",
            "  I-tim: 6528\n",
            "  B-art: 402\n",
            "  B-eve: 308\n",
            "  I-art: 297\n",
            "  I-eve: 253\n",
            "  B-nat: 201\n",
            "  I-gpe: 198\n",
            "  I-nat: 51\n",
            "\n",
            "Sentence Length Stats:\n",
            "  mean: 1.0\n",
            "  median: 1.0\n",
            "  min: 1\n",
            "  max: 1\n",
            "  std: 0.0\n",
            "\n",
            "Entity Type Distribution:\n",
            "  geo: 45058\n",
            "  gpe: 16068\n",
            "  per: 34241\n",
            "  org: 36927\n",
            "  tim: 26861\n",
            "  art: 699\n",
            "  nat: 252\n",
            "  eve: 561\n"
          ]
        }
      ],
      "source": [
        "# Use the comprehensive analysis function\n",
        "analysis_results = analyze_dataset(df)\n",
        "\n",
        "print(\"Comprehensive Dataset Analysis:\")\n",
        "print(\"=\" * 50)\n",
        "\n",
        "for key, value in analysis_results.items():\n",
        "    print(f\"\\n{key.replace('_', ' ').title()}:\")\n",
        "    if isinstance(value, dict):\n",
        "        for sub_key, sub_value in value.items():\n",
        "            print(f\"  {sub_key}: {sub_value}\")\n",
        "    else:\n",
        "        print(f\"  {value}\")"
      ]
    },
    {
      "cell_type": "markdown",
      "metadata": {
        "id": "NzLOBHPwuydM"
      },
      "source": [
        "## 6. Data Quality Assessment"
      ]
    },
    {
      "cell_type": "code",
      "execution_count": 20,
      "metadata": {
        "colab": {
          "base_uri": "https://localhost:8080/"
        },
        "id": "Gnz6mQwGuydM",
        "outputId": "73a2d238-1f3d-42eb-93cd-fdf1cef37881"
      },
      "outputs": [
        {
          "name": "stdout",
          "output_type": "stream",
          "text": [
            "Data Quality Assessment:\n",
            "==============================\n",
            "\n",
            "Found 0 potential consecutive B- tag issues in first 1000 sentences\n",
            "Found 0 potential orphan I- tag issues in first 1000 sentences\n"
          ]
        }
      ],
      "source": [
        "# Check for potential data quality issues\n",
        "print(\"Data Quality Assessment:\")\n",
        "print(\"=\" * 30)\n",
        "\n",
        "# Check for consecutive B- tags of the same type (potential issue)\n",
        "consecutive_b_issues = 0\n",
        "for sent_id in df['Sentence #'].unique()[:1000]:  # Check first 1000 sentences\n",
        "    sent_data = df[df['Sentence #'] == sent_id]\n",
        "    tags = sent_data['Tag'].tolist()\n",
        "\n",
        "    for i in range(len(tags) - 1):\n",
        "        if tags[i].startswith('B-') and tags[i+1].startswith('B-') and tags[i] == tags[i+1]:\n",
        "            consecutive_b_issues += 1\n",
        "            if consecutive_b_issues <= 5:  # Show first 5 examples\n",
        "                print(f\"Consecutive B- tags in {sent_id}: {tags[i]} -> {tags[i+1]}\")\n",
        "\n",
        "print(f\"\\nFound {consecutive_b_issues} potential consecutive B- tag issues in first 1000 sentences\")\n",
        "\n",
        "# Check for I- tags without preceding B- tags\n",
        "orphan_i_issues = 0\n",
        "for sent_id in df['Sentence #'].unique()[:1000]:  # Check first 1000 sentences\n",
        "    sent_data = df[df['Sentence #'] == sent_id]\n",
        "    tags = sent_data['Tag'].tolist()\n",
        "\n",
        "    for i, tag in enumerate(tags):\n",
        "        if tag.startswith('I-'):\n",
        "            entity_type = tag[2:]\n",
        "            # Check if there's a B- tag before this I- tag\n",
        "            has_b_tag = False\n",
        "            for j in range(i-1, -1, -1):\n",
        "                if tags[j] == f'B-{entity_type}':\n",
        "                    has_b_tag = True\n",
        "                    break\n",
        "                elif tags[j] != f'I-{entity_type}':\n",
        "                    break\n",
        "\n",
        "            if not has_b_tag:\n",
        "                orphan_i_issues += 1\n",
        "                if orphan_i_issues <= 5:  # Show first 5 examples\n",
        "                    print(f\"Orphan I- tag in {sent_id}: {tag} at position {i}\")\n",
        "\n",
        "print(f\"Found {orphan_i_issues} potential orphan I- tag issues in first 1000 sentences\")"
      ]
    },
    {
      "cell_type": "markdown",
      "metadata": {
        "id": "azpJJVbEuydM"
      },
      "source": [
        "## 7. Summary and Insights"
      ]
    },
    {
      "cell_type": "code",
      "execution_count": 21,
      "metadata": {
        "colab": {
          "base_uri": "https://localhost:8080/"
        },
        "id": "-e3x0V67uydM",
        "outputId": "7797cacc-7667-49a4-9473-b6d7addbf3ca"
      },
      "outputs": [
        {
          "name": "stdout",
          "output_type": "stream",
          "text": [
            "Dataset Summary and Key Insights:\n",
            "========================================\n",
            "📊 Dataset Size: 1,048,575 tokens across 47,959 sentences\n",
            "📝 Vocabulary: 35,177 unique words\n",
            "🏷️  NER Tags: 17 unique tags\n",
            "🎯 Entity Types: 8 types (art, eve, geo, gpe, nat, org, per, tim)\n",
            "\n",
            "📏 Sentence Lengths:\n",
            "   • Average: 1.0 words\n",
            "   • Range: 1 - 1 words\n",
            "   • Median: 1.0 words\n",
            "\n",
            "🔍 Tag Distribution:\n",
            "   • Non-entity tokens (O): 84.7%\n",
            "   • Entity tokens: 15.3%\n",
            "\n",
            "💡 Key Insights:\n",
            "   • This is a large dataset\n",
            "   • Entity density: Medium\n",
            "   • Vocabulary richness: High\n",
            "   • Sentence complexity: Low\n"
          ]
        }
      ],
      "source": [
        "print(\"Dataset Summary and Key Insights:\")\n",
        "print(\"=\" * 40)\n",
        "\n",
        "print(f\"📊 Dataset Size: {df.shape[0]:,} tokens across {df['Sentence #'].nunique():,} sentences\")\n",
        "print(f\"📝 Vocabulary: {df['Word'].nunique():,} unique words\")\n",
        "print(f\"🏷️  NER Tags: {df['Tag'].nunique()} unique tags\")\n",
        "print(f\"🎯 Entity Types: {len(entity_types)} types ({', '.join(sorted(entity_types))})\")\n",
        "\n",
        "print(f\"\\n📏 Sentence Lengths:\")\n",
        "print(f\"   • Average: {sentence_stats['mean_length']:.1f} words\")\n",
        "print(f\"   • Range: {sentence_stats['min_length']} - {sentence_stats['max_length']} words\")\n",
        "print(f\"   • Median: {sentence_stats['median_length']:.1f} words\")\n",
        "\n",
        "o_percentage = (tag_distribution['O'] / len(df)) * 100\n",
        "entity_percentage = 100 - o_percentage\n",
        "print(f\"\\n🔍 Tag Distribution:\")\n",
        "print(f\"   • Non-entity tokens (O): {o_percentage:.1f}%\")\n",
        "print(f\"   • Entity tokens: {entity_percentage:.1f}%\")\n",
        "\n",
        "print(f\"\\n💡 Key Insights:\")\n",
        "print(f\"   • This is a {['small', 'medium', 'large'][2 if df.shape[0] > 100000 else 1 if df.shape[0] > 10000 else 0]} dataset\")\n",
        "print(f\"   • Entity density: {'High' if entity_percentage > 30 else 'Medium' if entity_percentage > 15 else 'Low'}\")\n",
        "print(f\"   • Vocabulary richness: {'High' if df['Word'].nunique() > 20000 else 'Medium' if df['Word'].nunique() > 5000 else 'Low'}\")\n",
        "print(f\"   • Sentence complexity: {'High' if sentence_stats['mean_length'] > 25 else 'Medium' if sentence_stats['mean_length'] > 15 else 'Low'}\")"
      ]
    },
    {
      "cell_type": "markdown",
      "metadata": {
        "id": "EyExr2zjuydM"
      },
      "source": [
        "## Conclusion\n",
        "\n",
        "This exploration provides a comprehensive understanding of the NER dataset:\n",
        "\n",
        "1. **Dataset Scale**: Large-scale dataset suitable for training robust NER models\n",
        "2. **Entity Diversity**: Multiple entity types with varying frequencies\n",
        "3. **Text Complexity**: Diverse sentence lengths and vocabulary\n",
        "4. **Data Quality**: Generally well-formatted IOB2 tagging with minimal issues\n",
        "\n",
        "The insights from this exploration will guide the preprocessing steps and model architecture decisions in subsequent notebooks."
      ]
    }
  ],
  "metadata": {
    "colab": {
      "include_colab_link": true,
      "provenance": []
    },
    "kernelspec": {
      "display_name": "Python 3",
      "language": "python",
      "name": "python3"
    },
    "language_info": {
      "codemirror_mode": {
        "name": "ipython",
        "version": 3
      },
      "file_extension": ".py",
      "mimetype": "text/x-python",
      "name": "python",
      "nbconvert_exporter": "python",
      "pygments_lexer": "ipython3",
      "version": "3.8.0"
    }
  },
  "nbformat": 4,
  "nbformat_minor": 0
}
