{
  "cells": [
    {
      "cell_type": "markdown",
      "metadata": {
        "colab_type": "text",
        "id": "view-in-github"
      },
      "source": [
        "<a href=\"https://colab.research.google.com/github/trehansalil/sentence_ner/blob/copilot%2Ffix-a6d2d533-4f22-45c8-b3d9-c24a6e371bd0/notebooks/02_data_preprocessing.ipynb\" target=\"_parent\"><img src=\"https://colab.research.google.com/assets/colab-badge.svg\" alt=\"Open In Colab\"/></a>"
      ]
    },
    {
      "cell_type": "markdown",
      "metadata": {
        "id": "agArMlgNw_ou"
      },
      "source": [
        "# Data Preprocessing for NER Dataset\n",
        "\n",
        "This notebook handles data preprocessing including:\n",
        "- Sentence reconstruction\n",
        "- Vocabulary building\n",
        "- Sequence encoding and padding\n",
        "- Train/validation/test splits"
      ]
    },
    {
      "cell_type": "code",
      "execution_count": 3,
      "metadata": {},
      "outputs": [
        {
          "name": "stdout",
          "output_type": "stream",
          "text": [
            "Collecting scikit-learn\n",
            "  Using cached scikit_learn-1.7.1-cp310-cp310-macosx_12_0_arm64.whl (8.7 MB)\n",
            "Collecting threadpoolctl>=3.1.0\n",
            "  Using cached threadpoolctl-3.6.0-py3-none-any.whl (18 kB)\n",
            "Requirement already satisfied: numpy>=1.22.0 in /Users/saliltrehan/.pyenv/versions/3.10.12/lib/python3.10/site-packages (from scikit-learn) (2.2.5)\n",
            "Requirement already satisfied: scipy>=1.8.0 in /Users/saliltrehan/.pyenv/versions/3.10.12/lib/python3.10/site-packages (from scikit-learn) (1.15.3)\n",
            "Collecting joblib>=1.2.0\n",
            "  Using cached joblib-1.5.1-py3-none-any.whl (307 kB)\n",
            "Installing collected packages: threadpoolctl, joblib, scikit-learn\n",
            "Successfully installed joblib-1.5.1 scikit-learn-1.7.1 threadpoolctl-3.6.0\n",
            "\n",
            "\u001b[1m[\u001b[0m\u001b[34;49mnotice\u001b[0m\u001b[1;39;49m]\u001b[0m\u001b[39;49m A new release of pip is available: \u001b[0m\u001b[31;49m23.0.1\u001b[0m\u001b[39;49m -> \u001b[0m\u001b[32;49m25.1.1\u001b[0m\n",
            "\u001b[1m[\u001b[0m\u001b[34;49mnotice\u001b[0m\u001b[1;39;49m]\u001b[0m\u001b[39;49m To update, run: \u001b[0m\u001b[32;49mpip install --upgrade pip\u001b[0m\n"
          ]
        }
      ],
      "source": [
        "#!/usr/bin/env python3\n",
        "!pip install scikit-learn"
      ]
    },
    {
      "cell_type": "code",
      "execution_count": 1,
      "metadata": {
        "id": "5VFdVyatw_ov"
      },
      "outputs": [],
      "source": [
        "# Import required libraries\n",
        "import pandas as pd\n",
        "import numpy as np\n",
        "import matplotlib.pyplot as plt\n",
        "import seaborn as sns\n",
        "import sys\n",
        "import os\n",
        "import pickle\n",
        "from collections import Counter\n",
        "\n",
        "# Add src directory to path\n",
        "sys.path.append('../')  # Add parent directory to path so we can import src modules\n",
        "\n",
        "from src.data_preprocessing import NERDataProcessor, analyze_dataset\n",
        "from src.utils import (\n",
        "    load_dataset, get_unique_tags, save_results,\n",
        "    print_dataset_info, plot_tag_distribution\n",
        ")\n",
        "\n",
        "# Set random seed for reproducibility\n",
        "np.random.seed(42)\n",
        "\n",
        "# Display settings\n",
        "pd.set_option('display.max_columns', None)\n",
        "pd.set_option('display.max_rows', 10)"
      ]
    },
    {
      "cell_type": "markdown",
      "metadata": {
        "id": "GUCmF3eBw_ov"
      },
      "source": [
        "## 1. Load and Inspect Data"
      ]
    },
    {
      "cell_type": "code",
      "execution_count": 3,
      "metadata": {
        "colab": {
          "base_uri": "https://localhost:8080/",
          "height": 258
        },
        "id": "7z-C4D9Gw_ov",
        "outputId": "030faa1c-a8ef-4a25-8414-fe56ca076b0d"
      },
      "outputs": [
        {
          "name": "stdout",
          "output_type": "stream",
          "text": [
            "Dataset loaded: 1,048,575 tokens across 47,959 sentences\n",
            "Unique words: 35,177\n",
            "Unique tags: 17\n"
          ]
        },
        {
          "data": {
            "text/html": [
              "<div>\n",
              "<style scoped>\n",
              "    .dataframe tbody tr th:only-of-type {\n",
              "        vertical-align: middle;\n",
              "    }\n",
              "\n",
              "    .dataframe tbody tr th {\n",
              "        vertical-align: top;\n",
              "    }\n",
              "\n",
              "    .dataframe thead th {\n",
              "        text-align: right;\n",
              "    }\n",
              "</style>\n",
              "<table border=\"1\" class=\"dataframe\">\n",
              "  <thead>\n",
              "    <tr style=\"text-align: right;\">\n",
              "      <th></th>\n",
              "      <th>Sentence #</th>\n",
              "      <th>Word</th>\n",
              "      <th>POS</th>\n",
              "      <th>Tag</th>\n",
              "    </tr>\n",
              "  </thead>\n",
              "  <tbody>\n",
              "    <tr>\n",
              "      <th>0</th>\n",
              "      <td>Sentence: 1</td>\n",
              "      <td>Thousands</td>\n",
              "      <td>NNS</td>\n",
              "      <td>O</td>\n",
              "    </tr>\n",
              "    <tr>\n",
              "      <th>1</th>\n",
              "      <td>NaN</td>\n",
              "      <td>of</td>\n",
              "      <td>IN</td>\n",
              "      <td>O</td>\n",
              "    </tr>\n",
              "    <tr>\n",
              "      <th>2</th>\n",
              "      <td>NaN</td>\n",
              "      <td>demonstrators</td>\n",
              "      <td>NNS</td>\n",
              "      <td>O</td>\n",
              "    </tr>\n",
              "    <tr>\n",
              "      <th>3</th>\n",
              "      <td>NaN</td>\n",
              "      <td>have</td>\n",
              "      <td>VBP</td>\n",
              "      <td>O</td>\n",
              "    </tr>\n",
              "    <tr>\n",
              "      <th>4</th>\n",
              "      <td>NaN</td>\n",
              "      <td>marched</td>\n",
              "      <td>VBN</td>\n",
              "      <td>O</td>\n",
              "    </tr>\n",
              "  </tbody>\n",
              "</table>\n",
              "</div>"
            ],
            "text/plain": [
              "    Sentence #           Word  POS Tag\n",
              "0  Sentence: 1      Thousands  NNS   O\n",
              "1          NaN             of   IN   O\n",
              "2          NaN  demonstrators  NNS   O\n",
              "3          NaN           have  VBP   O\n",
              "4          NaN        marched  VBN   O"
            ]
          },
          "execution_count": 3,
          "metadata": {},
          "output_type": "execute_result"
        }
      ],
      "source": [
        "# Load the dataset\n",
        "data_path = '../data/ner_dataset.csv'\n",
        "df = load_dataset(data_path)\n",
        "\n",
        "print(f\"Dataset loaded: {df.shape[0]:,} tokens across {df['Sentence #'].nunique():,} sentences\")\n",
        "print(f\"Unique words: {df['Word'].nunique():,}\")\n",
        "print(f\"Unique tags: {df['Tag'].nunique()}\")\n",
        "\n",
        "# Show sample\n",
        "df.head()"
      ]
    },
    {
      "cell_type": "markdown",
      "metadata": {
        "id": "1-Q7eqvDw_ov"
      },
      "source": [
        "## 2. Initialize Data Processor"
      ]
    },
    {
      "cell_type": "code",
      "execution_count": 4,
      "metadata": {
        "colab": {
          "base_uri": "https://localhost:8080/"
        },
        "id": "GdbWJ-rGw_ov",
        "outputId": "6a854c94-40c4-43da-8f10-e75155ee01fc"
      },
      "outputs": [
        {
          "name": "stdout",
          "output_type": "stream",
          "text": [
            "Initialized NERDataProcessor with a placeholder max_sequence_length. Will recalculate after data loading fix.\n"
          ]
        }
      ],
      "source": [
        "# Initialize the data processor\n",
        "# Set max_sequence_length based on sentence length analysis\n",
        "sentence_lengths = df.groupby('Sentence #').size()\n",
        "# Recalculate sentence_lengths based on the corrected data loading\n",
        "# The previous calculation was incorrect due to the data loading issue\n",
        "# We need to reload the data correctly first to get meaningful sentence lengths\n",
        "\n",
        "# For now, initialize with a reasonable default or a value derived from the first few rows if possible\n",
        "# A better approach is to fix the loading first and then re-calculate.\n",
        "# Given the error is in load_data, the sentence_lengths calculation above is likely wrong.\n",
        "# Let's re-initialize the processor with a placeholder max_length and recalculate after fixing the loading.\n",
        "\n",
        "# Initialize processor with a placeholder max length\n",
        "# The actual max_length should be determined AFTER successful data loading and sentence reconstruction.\n",
        "# We will need to re-run this cell after fixing the data loading.\n",
        "processor = NERDataProcessor(max_sequence_length=128) # Placeholder value\n",
        "\n",
        "print(f\"Initialized NERDataProcessor with a placeholder max_sequence_length. Will recalculate after data loading fix.\")"
      ]
    },
    {
      "cell_type": "markdown",
      "metadata": {
        "id": "Mh7xDNoXw_ov"
      },
      "source": [
        "## 3. Process Data"
      ]
    },
    {
      "cell_type": "code",
      "execution_count": 5,
      "metadata": {
        "colab": {
          "base_uri": "https://localhost:8080/"
        },
        "id": "jwos4zdlw_ov",
        "outputId": "b92a1b8a-8f6e-45dd-c511-4cfdb7141632"
      },
      "outputs": [
        {
          "name": "stdout",
          "output_type": "stream",
          "text": [
            "Processing dataset...\n",
            "Sentence length statistics (recalculated after fixing data load):\n",
            "Mean: 1.0\n",
            "Median: 1.0\n",
            "95th percentile: 1\n",
            "Max: 1\n",
            "\n",
            "Updated NERDataProcessor with max_sequence_length=1\n",
            "\n",
            "Processing completed!\n",
            "Vocabulary size: 3,799\n",
            "Number of tags: 9\n",
            "Max sequence length: 1\n",
            "\n",
            "Data splits:\n",
            "Training: 28,776 sequences\n",
            "Validation: 9,592 sequences\n",
            "Test: 9,592 sequences\n",
            "\n",
            "Processing completed!\n",
            "Vocabulary size: 3,799\n",
            "Number of tags: 9\n",
            "Max sequence length: 1\n",
            "\n",
            "Data splits:\n",
            "Training: 28,776 sequences\n",
            "Validation: 9,592 sequences\n",
            "Test: 9,592 sequences\n"
          ]
        }
      ],
      "source": [
        "# Process the complete dataset\n",
        "print(\"Processing dataset...\")\n",
        "# The data loading error occurred within processor.process_data -> processor.load_data\n",
        "# We need to fix the load_data method in the NERDataProcessor class\n",
        "# After fixing, we will re-run this cell.\n",
        "\n",
        "# The NERDataProcessor class's load_data method needs to be modified to handle the encoding.\n",
        "# Since we cannot directly modify the class definition in this cell, the fix needs to be in the src/data_preprocessing.py file.\n",
        "# Assuming the fix is applied to the class definition in src/data_preprocessing.py (e.g., adding encoding='latin-1' to pd.read_csv)\n",
        "\n",
        "# After the fix in src/data_preprocessing.py, we re-run the data loading and processing steps.\n",
        "\n",
        "# Load the dataset again using the potentially fixed load_data method within the processor\n",
        "# This step implicitly calls the load_data method within the processor\n",
        "processor.load_data(data_path)\n",
        "\n",
        "# Now recalculate sentence lengths based on the correctly loaded data\n",
        "# The previous calculation in cell GdbWJ-rGw_ov was likely incorrect due to the loading error.\n",
        "sentence_lengths = processor.df.groupby('Sentence #').size()\n",
        "max_length = int(sentence_lengths.quantile(0.95)) # Use 95th percentile\n",
        "\n",
        "print(f\"Sentence length statistics (recalculated after fixing data load):\")\n",
        "print(f\"Mean: {sentence_lengths.mean():.1f}\")\n",
        "print(f\"Median: {sentence_lengths.median():.1f}\")\n",
        "print(f\"95th percentile: {max_length}\")\n",
        "print(f\"Max: {sentence_lengths.max()}\")\n",
        "\n",
        "# Update the processor's max_sequence_length\n",
        "processor.max_sequence_length = max_length\n",
        "print(f\"\\nUpdated NERDataProcessor with max_sequence_length={max_length}\")\n",
        "\n",
        "\n",
        "# Now proceed with the rest of the processing\n",
        "processed_data = processor.process_data(data_path) # This call will now use the corrected load_data internally and the updated max_length\n",
        "\n",
        "\n",
        "print(\"\\nProcessing completed!\")\n",
        "print(f\"Vocabulary size: {processed_data['metadata']['vocab_size']:,}\")\n",
        "print(f\"Number of tags: {processed_data['metadata']['num_tags']}\")\n",
        "print(f\"Max sequence length: {processed_data['metadata']['max_sequence_length']}\")\n",
        "\n",
        "# Extract data splits\n",
        "X_train = processed_data['X_train']\n",
        "X_val = processed_data['X_val']\n",
        "X_test = processed_data['X_test']\n",
        "y_train = processed_data['y_train']\n",
        "y_val = processed_data['y_val']\n",
        "y_test = processed_data['y_test']\n",
        "metadata = processed_data['metadata']\n",
        "\n",
        "print(f\"\\nData splits:\")\n",
        "print(f\"Training: {X_train.shape[0]:,} sequences\")\n",
        "print(f\"Validation: {X_val.shape[0]:,} sequences\")\n",
        "print(f\"Test: {X_test.shape[0]:,} sequences\")"
      ]
    },
    {
      "cell_type": "markdown",
      "metadata": {
        "id": "e-JIpDsfw_ov"
      },
      "source": [
        "## 4. Examine Processed Data"
      ]
    },
    {
      "cell_type": "code",
      "execution_count": 6,
      "metadata": {
        "colab": {
          "base_uri": "https://localhost:8080/"
        },
        "id": "wS6DWjwRw_ov",
        "outputId": "d297482e-4d1d-42a2-9b4d-6ab822a67537"
      },
      "outputs": [
        {
          "name": "stdout",
          "output_type": "stream",
          "text": [
            "Training data shapes:\n",
            "X_train: (28776, 1)\n",
            "y_train: (28776, 1)\n",
            "\n",
            "Sample input sequence (first 10 tokens):\n",
            "[1885]\n",
            "\n",
            "Sample output sequence (first 10 tags):\n",
            "[2]\n",
            "\n",
            "Sample tags (readable): ['B-geo']\n"
          ]
        }
      ],
      "source": [
        "# # Examine the shape and properties of processed data\n",
        "# print(\"Training data shapes:\")\n",
        "# print(f\"X_train: {X_train.shape}\")\n",
        "# print(f\"y_train: {y_train.shape}\")\n",
        "\n",
        "# print(f\"\\nSample input sequence (first 10 tokens):\")\n",
        "# print(X_train[0][:10])\n",
        "\n",
        "# print(f\"\\nSample output sequence (first 10 tags):\")\n",
        "# print(y_train[0][:10])\n",
        "\n",
        "# # Convert back to readable format for inspection\n",
        "# id_to_tag = metadata['id_to_tag']\n",
        "# sample_tags = [id_to_tag[str(tag_id)] for tag_id in y_train[0][:20]]\n",
        "# print(f\"\\nSample tags (readable): {sample_tags}\")\n",
        "\n",
        "# Examine the shape and properties of processed data\n",
        "print(\"Training data shapes:\")\n",
        "print(f\"X_train: {X_train.shape}\")\n",
        "print(f\"y_train: {y_train.shape}\")\n",
        "\n",
        "print(f\"\\nSample input sequence (first 10 tokens):\")\n",
        "print(X_train[0][:10])\n",
        "\n",
        "print(f\"\\nSample output sequence (first 10 tags):\")\n",
        "print(y_train[0][:10])\n",
        "\n",
        "# Convert back to readable format for inspection\n",
        "id_to_tag = metadata['id_to_tag']\n",
        "# Access the dictionary using the integer tag_id directly\n",
        "sample_tags = [id_to_tag[tag_id] for tag_id in y_train[0][:20]]\n",
        "print(f\"\\nSample tags (readable): {sample_tags}\")"
      ]
    },
    {
      "cell_type": "code",
      "execution_count": 7,
      "metadata": {
        "colab": {
          "base_uri": "https://localhost:8080/"
        },
        "id": "MfmZcAkZw_ow",
        "outputId": "371bfe5a-de9f-4dc2-8496-aa06eadfaa0c"
      },
      "outputs": [
        {
          "name": "stdout",
          "output_type": "stream",
          "text": [
            "Tag mappings:\n",
            "B-art: 0\n",
            "B-eve: 1\n",
            "B-geo: 2\n",
            "B-gpe: 3\n",
            "B-nat: 4\n",
            "B-org: 5\n",
            "B-per: 6\n",
            "B-tim: 7\n",
            "O: 8\n",
            "\n",
            "Tag distribution in training data:\n",
            "B-art (ID 0): 12 (0.04%)\n",
            "B-eve (ID 1): 7 (0.02%)\n",
            "B-geo (ID 2): 2,014 (7.00%)\n",
            "B-gpe (ID 3): 1,794 (6.23%)\n",
            "B-nat (ID 4): 5 (0.02%)\n",
            "B-org (ID 5): 1,655 (5.75%)\n",
            "B-per (ID 6): 2,405 (8.36%)\n",
            "B-tim (ID 7): 306 (1.06%)\n",
            "O (ID 8): 20,578 (71.51%)\n"
          ]
        }
      ],
      "source": [
        "# Examine tag distribution in processed data\n",
        "tag_to_id = metadata['tag_to_id']\n",
        "print(\"Tag mappings:\")\n",
        "for tag, tag_id in sorted(tag_to_id.items(), key=lambda x: x[1]):\n",
        "    print(f\"{tag}: {tag_id}\")\n",
        "\n",
        "# Calculate tag distribution in training data\n",
        "train_tag_counts = Counter(y_train.flatten())\n",
        "print(\"\\nTag distribution in training data:\")\n",
        "for tag_id, count in sorted(train_tag_counts.items()):\n",
        "    # Access the dictionary using the integer tag_id directly\n",
        "    tag_name = id_to_tag[tag_id]\n",
        "    percentage = (count / len(y_train.flatten())) * 100\n",
        "    print(f\"{tag_name} (ID {tag_id}): {count:,} ({percentage:.2f}%)\")"
      ]
    },
    {
      "cell_type": "markdown",
      "metadata": {
        "id": "g2Wo7b-Tw_ow"
      },
      "source": [
        "## 5. Analyze Sequence Properties"
      ]
    },
    {
      "cell_type": "code",
      "execution_count": 8,
      "metadata": {
        "colab": {
          "base_uri": "https://localhost:8080/",
          "height": 676
        },
        "id": "xKHk5Uk3w_ow",
        "outputId": "c5581d8c-cfbb-42a3-a707-e3a97cf65ff3"
      },
      "outputs": [
        {
          "name": "stdout",
          "output_type": "stream",
          "text": [
            "Actual sequence lengths (excluding padding):\n",
            "Training - Mean: 1.0, Max: 1, Min: 1\n",
            "Validation - Mean: 1.0, Max: 1, Min: 1\n",
            "Test - Mean: 1.0, Max: 1, Min: 0\n"
          ]
        },
        {
          "data": {
            "image/png": "[encoded data removed]",
            "text/plain": [
              "<Figure size 1200x600 with 1 Axes>"
            ]
          },
          "metadata": {},
          "output_type": "display_data"
        }
      ],
      "source": [
        "# Analyze padding in sequences\n",
        "pad_token_id = 0  # Assuming PAD token has ID 0\n",
        "\n",
        "def count_non_pad_tokens(sequences, pad_id=0):\n",
        "    \"\"\"Count non-padding tokens in each sequence.\"\"\"\n",
        "    return [(seq != pad_id).sum() for seq in sequences]\n",
        "\n",
        "train_lengths = count_non_pad_tokens(X_train)\n",
        "val_lengths = count_non_pad_tokens(X_val)\n",
        "test_lengths = count_non_pad_tokens(X_test)\n",
        "\n",
        "print(\"Actual sequence lengths (excluding padding):\")\n",
        "print(f\"Training - Mean: {np.mean(train_lengths):.1f}, Max: {np.max(train_lengths)}, Min: {np.min(train_lengths)}\")\n",
        "print(f\"Validation - Mean: {np.mean(val_lengths):.1f}, Max: {np.max(val_lengths)}, Min: {np.min(val_lengths)}\")\n",
        "print(f\"Test - Mean: {np.mean(test_lengths):.1f}, Max: {np.max(test_lengths)}, Min: {np.min(test_lengths)}\")\n",
        "\n",
        "# Plot sequence length distribution\n",
        "plt.figure(figsize=(12, 6))\n",
        "plt.hist(train_lengths, bins=50, alpha=0.7, label='Training', density=True)\n",
        "plt.hist(val_lengths, bins=50, alpha=0.7, label='Validation', density=True)\n",
        "plt.hist(test_lengths, bins=50, alpha=0.7, label='Test', density=True)\n",
        "plt.xlabel('Actual Sequence Length')\n",
        "plt.ylabel('Density')\n",
        "plt.title('Distribution of Actual Sequence Lengths')\n",
        "plt.legend()\n",
        "plt.axvline(max_length, color='red', linestyle='--', label=f'Max Length ({max_length})')\n",
        "plt.tight_layout()\n",
        "plt.show()"
      ]
    },
    {
      "cell_type": "code",
      "execution_count": 9,
      "metadata": {
        "colab": {
          "base_uri": "https://localhost:8080/"
        },
        "id": "ZhueWwBuw_ow",
        "outputId": "bc4d2307-0516-4e8d-9932-f14abb4a6c39"
      },
      "outputs": [
        {
          "name": "stdout",
          "output_type": "stream",
          "text": [
            "Sequences longer than max_length (1): 0 (0.00%)\n",
            "Sequences kept fully: 47,959 (100.00%)\n",
            "✅ Good: Less than 5% of sequences are truncated.\n"
          ]
        }
      ],
      "source": [
        "# Check how much data is truncated\n",
        "truncated_count = sum(1 for length in sentence_lengths if length > max_length)\n",
        "truncation_percentage = (truncated_count / len(sentence_lengths)) * 100\n",
        "\n",
        "print(f\"Sequences longer than max_length ({max_length}): {truncated_count:,} ({truncation_percentage:.2f}%)\")\n",
        "print(f\"Sequences kept fully: {len(sentence_lengths) - truncated_count:,} ({100 - truncation_percentage:.2f}%)\")\n",
        "\n",
        "if truncation_percentage > 5:\n",
        "    print(\"⚠️  Warning: More than 5% of sequences are truncated. Consider increasing max_sequence_length.\")\n",
        "else:\n",
        "    print(\"✅ Good: Less than 5% of sequences are truncated.\")"
      ]
    },
    {
      "cell_type": "markdown",
      "metadata": {
        "id": "PbPq-ePEw_ow"
      },
      "source": [
        "## 6. Save Processed Data"
      ]
    },
    {
      "cell_type": "code",
      "execution_count": 10,
      "metadata": {
        "colab": {
          "base_uri": "https://localhost:8080/"
        },
        "id": "1gYZ6Whaw_ow",
        "outputId": "ccc7bcaf-e7a5-4807-910d-100d45d4ce99"
      },
      "outputs": [
        {
          "name": "stdout",
          "output_type": "stream",
          "text": [
            "Data processor saved to: ../models/data_processor.pkl\n",
            "Processed data saved to: ../results/processed_data.npz\n",
            "Metadata saved to: ../results/preprocessing_metadata.json\n"
          ]
        }
      ],
      "source": [
        "# Create directories for saving\n",
        "os.makedirs('../models', exist_ok=True)\n",
        "os.makedirs('../results', exist_ok=True)\n",
        "\n",
        "# Save the data processor\n",
        "processor_path = '../models/data_processor.pkl'\n",
        "processor.save_processor(processor_path)\n",
        "print(f\"Data processor saved to: {processor_path}\")\n",
        "\n",
        "# Save processed data\n",
        "data_save_path = '../results/processed_data.npz'\n",
        "np.savez_compressed(\n",
        "    data_save_path,\n",
        "    X_train=X_train,\n",
        "    X_val=X_val,\n",
        "    X_test=X_test,\n",
        "    y_train=y_train,\n",
        "    y_val=y_val,\n",
        "    y_test=y_test\n",
        ")\n",
        "print(f\"Processed data saved to: {data_save_path}\")\n",
        "\n",
        "# Save metadata\n",
        "metadata_path = '../results/preprocessing_metadata.json'\n",
        "save_results(metadata, metadata_path)\n",
        "print(f\"Metadata saved to: {metadata_path}\")"
      ]
    },
    {
      "cell_type": "markdown",
      "metadata": {
        "id": "KXD-anf-w_ow"
      },
      "source": [
        "## 7. Validation and Quality Checks"
      ]
    },
    {
      "cell_type": "code",
      "execution_count": 11,
      "metadata": {
        "colab": {
          "base_uri": "https://localhost:8080/"
        },
        "id": "XYYiHxv8w_ow",
        "outputId": "b5323675-30b8-46a2-fea0-40d8bf41993b"
      },
      "outputs": [
        {
          "name": "stdout",
          "output_type": "stream",
          "text": [
            "Data Validation:\n",
            "====================\n",
            "✅ Shape consistency check passed\n",
            "✅ Sequence length check passed\n",
            "✅ Value range check passed\n",
            "✅ Data split check passed\n",
            "\n",
            "🎉 All validation checks passed!\n"
          ]
        }
      ],
      "source": [
        "# Validate data integrity\n",
        "print(\"Data Validation:\")\n",
        "print(\"=\" * 20)\n",
        "\n",
        "# Check shapes\n",
        "assert X_train.shape[0] == y_train.shape[0], \"Training X and y have different number of samples\"\n",
        "assert X_val.shape[0] == y_val.shape[0], \"Validation X and y have different number of samples\"\n",
        "assert X_test.shape[0] == y_test.shape[0], \"Test X and y have different number of samples\"\n",
        "print(\"✅ Shape consistency check passed\")\n",
        "\n",
        "# Check sequence lengths\n",
        "assert X_train.shape[1] == max_length, \"Training sequences have wrong length\"\n",
        "assert y_train.shape[1] == max_length, \"Training labels have wrong length\"\n",
        "print(\"✅ Sequence length check passed\")\n",
        "\n",
        "# Check value ranges\n",
        "assert X_train.min() >= 0, \"Negative values in X_train\"\n",
        "assert X_train.max() < metadata['vocab_size'], \"X_train values exceed vocab size\"\n",
        "assert y_train.min() >= 0, \"Negative values in y_train\"\n",
        "assert y_train.max() < metadata['num_tags'], \"y_train values exceed num_tags\"\n",
        "print(\"✅ Value range check passed\")\n",
        "\n",
        "# Check data splits don't overlap\n",
        "total_samples = X_train.shape[0] + X_val.shape[0] + X_test.shape[0]\n",
        "expected_samples = metadata['total_sentences']\n",
        "assert total_samples == expected_samples, f\"Data split error: {total_samples} != {expected_samples}\"\n",
        "print(\"✅ Data split check passed\")\n",
        "\n",
        "print(\"\\n🎉 All validation checks passed!\")"
      ]
    },
    {
      "cell_type": "code",
      "execution_count": 12,
      "metadata": {
        "colab": {
          "base_uri": "https://localhost:8080/"
        },
        "id": "EU_FIs1Bw_ow",
        "outputId": "f0237ce4-eaa7-473a-d756-0b1f403edf7e"
      },
      "outputs": [
        {
          "name": "stdout",
          "output_type": "stream",
          "text": [
            "Testing processor with sample text: 'Barack Obama visited New York yesterday.'\n",
            "Processed shape: (1, 1)\n",
            "Processed sequence (first 10 tokens): [1]\n",
            "\n",
            "Word to ID mapping:\n",
            "  Barack: 341 \n",
            "  Obama: 2424 \n",
            "  visited: 1 (UNK)\n",
            "  New: 2357 \n",
            "  York: 1 (UNK)\n",
            "  yesterday.: 1 (UNK)\n"
          ]
        }
      ],
      "source": [
        "# Test the processor with a sample text\n",
        "sample_text = \"Barack Obama visited New York yesterday.\"\n",
        "print(f\"Testing processor with sample text: '{sample_text}'\")\n",
        "\n",
        "# Preprocess the text\n",
        "processed_sample = processor.preprocess_text(sample_text)\n",
        "print(f\"Processed shape: {processed_sample.shape}\")\n",
        "print(f\"Processed sequence (first 10 tokens): {processed_sample[0][:10]}\")\n",
        "\n",
        "# Show the word mappings for this text\n",
        "words = sample_text.split()\n",
        "word_ids = [processor.word_to_id.get(word, processor.word_to_id['<UNK>']) for word in words]\n",
        "print(f\"\\nWord to ID mapping:\")\n",
        "for word, word_id in zip(words, word_ids):\n",
        "    status = \"(UNK)\" if word_id == processor.word_to_id['<UNK>'] else \"\"\n",
        "    print(f\"  {word}: {word_id} {status}\")"
      ]
    },
    {
      "cell_type": "markdown",
      "metadata": {
        "id": "w7ySC_apw_ow"
      },
      "source": [
        "## 8. Summary Statistics"
      ]
    },
    {
      "cell_type": "code",
      "execution_count": 13,
      "metadata": {
        "colab": {
          "base_uri": "https://localhost:8080/"
        },
        "id": "kJyGiXCaw_ow",
        "outputId": "a5759a4d-9db3-4d17-fbaa-ed56f97bcc42"
      },
      "outputs": [
        {
          "name": "stdout",
          "output_type": "stream",
          "text": [
            "Summary statistics saved to: ../results/preprocessing_summary.json\n",
            "\n",
            "Preprocessing Summary:\n",
            "==============================\n",
            "📊 Dataset: 1,048,575 tokens, 47,960 sentences\n",
            "📚 Vocabulary: 3,799 unique words\n",
            "🏷️  Tags: 9 unique NER tags\n",
            "📏 Max Length: 1 tokens\n",
            "\n",
            "🔄 Data Splits:\n",
            "   • Training: 28,776 (60.0%)\n",
            "   • Validation: 9,592 (20.0%)\n",
            "   • Test: 9,592 (20.0%)\n",
            "\n",
            "✂️ Truncation: 0.0% of sequences truncated\n"
          ]
        }
      ],
      "source": [
        "# Create summary statistics\n",
        "summary_stats = {\n",
        "    'dataset_info': {\n",
        "        'total_tokens': int(df.shape[0]),\n",
        "        'total_sentences': int(metadata['total_sentences']),\n",
        "        'vocabulary_size': int(metadata['vocab_size']),\n",
        "        'num_tags': int(metadata['num_tags']),\n",
        "        'max_sequence_length': int(metadata['max_sequence_length'])\n",
        "    },\n",
        "    'data_splits': {\n",
        "        'train_samples': int(X_train.shape[0]),\n",
        "        'val_samples': int(X_val.shape[0]),\n",
        "        'test_samples': int(X_test.shape[0]),\n",
        "        'train_percentage': round((X_train.shape[0] / total_samples) * 100, 1),\n",
        "        'val_percentage': round((X_val.shape[0] / total_samples) * 100, 1),\n",
        "        'test_percentage': round((X_test.shape[0] / total_samples) * 100, 1)\n",
        "    },\n",
        "    'sequence_stats': {\n",
        "        'mean_train_length': round(np.mean(train_lengths), 1),\n",
        "        'mean_val_length': round(np.mean(val_lengths), 1),\n",
        "        'mean_test_length': round(np.mean(test_lengths), 1),\n",
        "        'truncation_percentage': round(truncation_percentage, 2)\n",
        "    },\n",
        "    'tag_distribution': {id_to_tag[tag_id]: int(count) for tag_id, count in train_tag_counts.items()}\n",
        "}\n",
        "\n",
        "# Save summary statistics\n",
        "summary_path = '../results/preprocessing_summary.json'\n",
        "save_results(summary_stats, summary_path)\n",
        "print(f\"Summary statistics saved to: {summary_path}\")\n",
        "\n",
        "# Display summary\n",
        "print(\"\\nPreprocessing Summary:\")\n",
        "print(\"=\" * 30)\n",
        "print(f\"📊 Dataset: {summary_stats['dataset_info']['total_tokens']:,} tokens, {summary_stats['dataset_info']['total_sentences']:,} sentences\")\n",
        "print(f\"📚 Vocabulary: {summary_stats['dataset_info']['vocabulary_size']:,} unique words\")\n",
        "print(f\"🏷️  Tags: {summary_stats['dataset_info']['num_tags']} unique NER tags\")\n",
        "print(f\"📏 Max Length: {summary_stats['dataset_info']['max_sequence_length']} tokens\")\n",
        "print(f\"\\n🔄 Data Splits:\")\n",
        "print(f\"   • Training: {summary_stats['data_splits']['train_samples']:,} ({summary_stats['data_splits']['train_percentage']}%)\")\n",
        "print(f\"   • Validation: {summary_stats['data_splits']['val_samples']:,} ({summary_stats['data_splits']['val_percentage']}%)\")\n",
        "print(f\"   • Test: {summary_stats['data_splits']['test_samples']:,} ({summary_stats['data_splits']['test_percentage']}%)\")\n",
        "print(f\"\\n✂️ Truncation: {summary_stats['sequence_stats']['truncation_percentage']}% of sequences truncated\")"
      ]
    },
    {
      "cell_type": "markdown",
      "metadata": {
        "id": "8io2CR7uw_ow"
      },
      "source": [
        "## Conclusion\n",
        "\n",
        "Data preprocessing completed successfully!\n",
        "\n",
        "**What we accomplished:**\n",
        "1. ✅ Loaded and analyzed the raw NER dataset\n",
        "2. ✅ Built vocabulary mappings for words and tags\n",
        "3. ✅ Converted text sequences to numerical representations\n",
        "4. ✅ Applied appropriate padding/truncation\n",
        "5. ✅ Split data into train/validation/test sets (60%/20%/20%)\n",
        "6. ✅ Validated data integrity and quality\n",
        "7. ✅ Saved processed data and metadata for model training\n",
        "\n",
        "**Next steps:**\n",
        "- The processed data is ready for model training\n",
        "- Both baseline and advanced models can use this preprocessed data\n",
        "- All mappings and metadata are preserved for consistent evaluation"
      ]
    }
  ],
  "metadata": {
    "colab": {
      "include_colab_link": true,
      "provenance": []
    },
    "kernelspec": {
      "display_name": "3.10.12",
      "language": "python",
      "name": "python3"
    },
    "language_info": {
      "codemirror_mode": {
        "name": "ipython",
        "version": 3
      },
      "file_extension": ".py",
      "mimetype": "text/x-python",
      "name": "python",
      "nbconvert_exporter": "python",
      "pygments_lexer": "ipython3",
      "version": "3.10.12"
    }
  },
  "nbformat": 4,
  "nbformat_minor": 0
}
